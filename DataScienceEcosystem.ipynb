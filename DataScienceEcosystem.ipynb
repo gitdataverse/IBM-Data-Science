{
 "cells": [
  {
   "cell_type": "code",
   "execution_count": 9,
   "id": "fd4545b4-ce35-4819-85ad-0ca7568e5e4c",
   "metadata": {
    "tags": []
   },
   "outputs": [],
   "source": [
    "# Exercise 1: Create a Jupyter Notebook"
   ]
  },
  {
   "cell_type": "code",
   "execution_count": 8,
   "id": "a43a70c9-f1c4-40fc-9ece-5e9b7b0dd72d",
   "metadata": {
    "tags": []
   },
   "outputs": [],
   "source": [
    "# Exercise 2: Create markdown cell with title of the notebook"
   ]
  },
  {
   "cell_type": "markdown",
   "id": "d60eb515-d90a-4fb4-a689-c69d80853dc2",
   "metadata": {},
   "source": [
    "# Data Science Tools and Ecosystem"
   ]
  },
  {
   "cell_type": "code",
   "execution_count": 7,
   "id": "18673655-f40e-4fc7-89d1-14f2b61662de",
   "metadata": {
    "tags": []
   },
   "outputs": [],
   "source": [
    "# Exercise 3 - Create a markdown cell for an introduction"
   ]
  },
  {
   "cell_type": "markdown",
   "id": "d8782cb3-ca49-4f62-9257-cd4bafad1ef0",
   "metadata": {},
   "source": [
    "In this notebook, Data Science Tools and Ecosystem are summarized."
   ]
  },
  {
   "cell_type": "code",
   "execution_count": 2,
   "id": "a4532c3b-8827-4aab-8cfd-a06214dc3ea1",
   "metadata": {
    "tags": []
   },
   "outputs": [],
   "source": [
    "# Exercise 10 - Insert a markdown cell to list Objectives"
   ]
  },
  {
   "cell_type": "markdown",
   "id": "d01bd587-10e1-4695-9f63-18d4e3f9bd30",
   "metadata": {},
   "source": [
    "Objectives: \n",
    "* List popular languages for Data Science\n",
    "* List the commonly used libraries used by Data Scientists\n",
    "* List a few examples of evaluating arithmetic expressions in Python\n"
   ]
  },
  {
   "cell_type": "code",
   "execution_count": 10,
   "id": "e8c9ef7c-0b18-42b0-b795-3c34213f3069",
   "metadata": {
    "tags": []
   },
   "outputs": [],
   "source": [
    "# Exercise 4 - Create a markdown cell to list data science languages"
   ]
  },
  {
   "cell_type": "markdown",
   "id": "b350329f-c994-4753-8b96-167efe52def1",
   "metadata": {},
   "source": [
    "Some of the popular languages that Data Scientists use are: \n",
    "1. Python\n",
    "2. R\n",
    "3. Scala"
   ]
  },
  {
   "cell_type": "code",
   "execution_count": 4,
   "id": "4647b382-ff33-44ad-a685-6417ecc4dff2",
   "metadata": {
    "tags": []
   },
   "outputs": [],
   "source": [
    "# Exercise 5 - Create a markdown cell to list data science libraries"
   ]
  },
  {
   "cell_type": "markdown",
   "id": "062c3923-a9a8-41ec-83f6-2b570e5500be",
   "metadata": {},
   "source": [
    "Some of the commonly used libraries used by Data Scientists include:\n",
    "1. Pandas\n",
    "2. NumPy\n",
    "3. Matplotlib\n"
   ]
  },
  {
   "cell_type": "code",
   "execution_count": 11,
   "id": "10507034-9481-4fa6-8f76-b4f41b7824f7",
   "metadata": {
    "tags": []
   },
   "outputs": [],
   "source": [
    "# Exercise 6 - Create a markdown cell with a table of Data Science tools"
   ]
  },
  {
   "cell_type": "markdown",
   "id": "7073f199-38c8-4625-893d-4bb6a302a7a9",
   "metadata": {
    "tags": []
   },
   "source": [
    "|Data Science Tools|\n",
    "|------------------|\n",
    "|Jupyter notebook|\n",
    "|Jupyter lab|\n",
    "|Apache Zeppelin|"
   ]
  },
  {
   "cell_type": "code",
   "execution_count": 13,
   "id": "4d4ad8e2-a076-45d3-acdf-a3368d275a01",
   "metadata": {
    "tags": []
   },
   "outputs": [],
   "source": [
    "# Exercise 7 - Create a markdown cell introducing arithmetic expression examples"
   ]
  },
  {
   "cell_type": "markdown",
   "id": "fd23d0b2-9df3-4b4d-8fc6-63c99545fa21",
   "metadata": {},
   "source": [
    "### Below are a few examples of evaluating arithmetic expressions in Python"
   ]
  },
  {
   "cell_type": "code",
   "execution_count": 14,
   "id": "16f241d1-5818-4f21-afef-c01e1229e63d",
   "metadata": {
    "tags": []
   },
   "outputs": [],
   "source": [
    "# Exercise 8 - Create a code cell to multiply and add numbers"
   ]
  },
  {
   "cell_type": "code",
   "execution_count": 5,
   "id": "608d1615-ea35-445e-aed1-871ffd032cc8",
   "metadata": {
    "tags": []
   },
   "outputs": [
    {
     "data": {
      "text/plain": [
       "17"
      ]
     },
     "execution_count": 5,
     "metadata": {},
     "output_type": "execute_result"
    }
   ],
   "source": [
    "# This a simple arithmetic expression to mutiply then add integers\n",
    "(3*4)+5"
   ]
  },
  {
   "cell_type": "code",
   "execution_count": 18,
   "id": "40a44e38-8e0f-4887-b0e9-1aed93bd1699",
   "metadata": {
    "tags": []
   },
   "outputs": [],
   "source": [
    "# Exercise 9 - Create a code cell to convert minutes to hours"
   ]
  },
  {
   "cell_type": "code",
   "execution_count": 1,
   "id": "52df6504-a496-458a-9694-eaddcfa6f3c4",
   "metadata": {
    "tags": []
   },
   "outputs": [
    {
     "data": {
      "text/plain": [
       "3"
      ]
     },
     "execution_count": 1,
     "metadata": {},
     "output_type": "execute_result"
    }
   ],
   "source": [
    "# This will convert 200 minutes to hours by diving by 60\n",
    "200//60"
   ]
  },
  {
   "cell_type": "code",
   "execution_count": 3,
   "id": "7ebd5028-c44a-4622-a4e9-8c59037a8a8e",
   "metadata": {
    "tags": []
   },
   "outputs": [],
   "source": [
    "# Exercise 11 - Create a markdown cell to indicate the Author's name"
   ]
  },
  {
   "cell_type": "markdown",
   "id": "eebe3916-6717-46c4-98fd-3e203c5cdbe4",
   "metadata": {},
   "source": [
    "## Author\n",
    "CHOI Lok man"
   ]
  },
  {
   "cell_type": "code",
   "execution_count": null,
   "id": "9dc3386d-5073-480b-af57-b6f2a5d7222a",
   "metadata": {},
   "outputs": [],
   "source": []
  }
 ],
 "metadata": {
  "kernelspec": {
   "display_name": "Python",
   "language": "python",
   "name": "conda-env-python-py"
  },
  "language_info": {
   "codemirror_mode": {
    "name": "ipython",
    "version": 3
   },
   "file_extension": ".py",
   "mimetype": "text/x-python",
   "name": "python",
   "nbconvert_exporter": "python",
   "pygments_lexer": "ipython3",
   "version": "3.7.12"
  }
 },
 "nbformat": 4,
 "nbformat_minor": 5
}
